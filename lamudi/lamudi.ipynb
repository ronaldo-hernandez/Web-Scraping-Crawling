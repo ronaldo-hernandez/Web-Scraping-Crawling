{
 "cells": [
  {
   "cell_type": "code",
   "execution_count": 1,
   "metadata": {},
   "outputs": [],
   "source": [
    "import pandas as pd\n",
    "from requests_html import HTMLSession\n",
    "from tqdm import tqdm\n",
    "import numpy as np\n",
    "from tqdm import tqdm"
   ]
  },
  {
   "cell_type": "code",
   "execution_count": 2,
   "metadata": {},
   "outputs": [],
   "source": [
    "links = []\n",
    "for x in range(0,14):\n",
    "    links.append(f'https://www.lamudi.com.co/quindio/for-sale/?page={x}')\n",
    "\n",
    "links.append('https://www.lamudi.com.co/la-guajira/for-sale/')\n",
    "links.append('https://www.lamudi.com.co/amazonas/for-sale/')\n",
    "links.append('https://www.lamudi.com.co/choco/for-sale/')"
   ]
  },
  {
   "cell_type": "code",
   "execution_count": 3,
   "metadata": {},
   "outputs": [],
   "source": [
    "links_pages = []"
   ]
  },
  {
   "cell_type": "code",
   "execution_count": 4,
   "metadata": {},
   "outputs": [
    {
     "name": "stderr",
     "output_type": "stream",
     "text": [
      "100%|██████████| 17/17 [00:16<00:00,  1.01it/s]\n"
     ]
    }
   ],
   "source": [
    "\n",
    "for r in tqdm(links):\n",
    "    s = HTMLSession()\n",
    "    r = s.get(r)\n",
    "    urls = r.html.find('div.clp-wrapper > div:nth-child(2) > div > div > div.ListingCell-AllInfo.ListingUnit > a')\n",
    "    for i in urls:\n",
    "        links_pages.append(i.attrs['href'])"
   ]
  },
  {
   "cell_type": "code",
   "execution_count": 5,
   "metadata": {},
   "outputs": [
    {
     "data": {
      "text/plain": [
       "432"
      ]
     },
     "execution_count": 5,
     "metadata": {},
     "output_type": "execute_result"
    }
   ],
   "source": [
    "len(links_pages)"
   ]
  },
  {
   "cell_type": "code",
   "execution_count": 6,
   "metadata": {},
   "outputs": [],
   "source": [
    "data = []"
   ]
  },
  {
   "cell_type": "code",
   "execution_count": 7,
   "metadata": {},
   "outputs": [
    {
     "name": "stderr",
     "output_type": "stream",
     "text": [
      "100%|██████████| 432/432 [17:11<00:00,  2.39s/it]\n"
     ]
    }
   ],
   "source": [
    "for i in tqdm(links_pages):\n",
    "    s = HTMLSession()\n",
    "    r = s.get(i)\n",
    "    txt = r.html.find('script:contains(\"dataLayer\")',first = True)\n",
    "    try:\n",
    "        precio = txt.search('\"price_formatted\": \"{precio}\"')['precio'].strip('$')\n",
    "        precio = pd.to_numeric(precio.strip(' ').replace(',',''))\n",
    "    except:\n",
    "        precio = np.nan\n",
    "    try:\n",
    "        baños = txt.search('\"bathrooms\":{baños},')['baños'].strip('\\n                ')\n",
    "    except:\n",
    "        baños = np.nan\n",
    "    try:\n",
    "        habitaciones = txt.search('\"bedrooms\":{habitaciones},')['habitaciones'].strip('\\n                ')\n",
    "    except:\n",
    "        habitaciones = np.nan\n",
    "    try:\n",
    "        area_total = txt.search('\"building_size\":{area_total},')['area_total'].strip('\\n                ')\n",
    "    except:\n",
    "        area_total = np.nan\n",
    "    try:\n",
    "        año_construido = txt.search('\"year_built\":{año_construido},')['año_construido'].strip('\\n                ')\n",
    "    except:\n",
    "        año_construido = np.nan\n",
    "    try:\n",
    "        antigüedad = 2022- pd.to_numeric(año_construido)\n",
    "    except:\n",
    "        antigüedad = np.nan\n",
    "    try:\n",
    "        nombre_inmobiliaria = txt.search('\"agency_name\": \"{nombre_inmobiliaria}\"')['nombre_inmobiliaria']\n",
    "    except:\n",
    "        nombre_inmobiliaria = np.nan\n",
    "    try:\n",
    "        tipo_inmueble = txt.search('\"attribute_set_name\": \"{tipo_inmueble}\"')['tipo_inmueble']\n",
    "    except:\n",
    "        tipo_inmueble = np.nan\n",
    "    try:\n",
    "        fecha_publicacion = txt.search('\"listing_start\": \"{fecha_publicacion}\"')['fecha_publicacion']\n",
    "    except:\n",
    "        fecha_publicacion = np.nan\n",
    "    try:\n",
    "        titulo = txt.search('\"title\": \"{titulo}\",')['titulo']\n",
    "    except:\n",
    "        titulo = np.nan\n",
    "    try:\n",
    "        latitud = txt.search('\"location_latitude\": \"{latitud}\"')['latitud']\n",
    "    except:\n",
    "        latitud = np.nan\n",
    "    try:\n",
    "        longitud = txt.search('\"location_latitude\": \"{longitud}\"')['longitud']\n",
    "    except:\n",
    "        longitud = np.nan\n",
    "    try:\n",
    "        departamento = txt.search('\"listing_region\": \"{departamento}\"')['departamento']\n",
    "    except:\n",
    "        departamento = np.nan\n",
    "    try:\n",
    "        municipio = txt.search('\"listing_city\": \"{municipio}\"')['municipio']\n",
    "    except:\n",
    "        municipio = np.nan\n",
    "    try:\n",
    "        descripcion = txt.search(' \"text\": \"{descripcion}\"')['descripcion']\n",
    "    except:\n",
    "        descripcion = np.nan\n",
    "    try:\n",
    "        estacionamientos = txt.search('\"car_spaces\":{estacionamientos},')['estacionamientos'].strip('\\n                ')\n",
    "    except:\n",
    "        estacionamientos = np.nan\n",
    "    datos = {'precio' : precio, 'baños' : baños,'habitaciones':habitaciones,'area_total':area_total, 'año_construido':año_construido,'antigüedad':antigüedad,'nombre_inmobiliaria':nombre_inmobiliaria,\n",
    "    'tipo_inmueble' : tipo_inmueble,'fecha_publicacion' : fecha_publicacion,'titulo' : titulo, 'latitud' : latitud, 'longitud' : longitud,'departamento' : departamento,'municipio' : municipio,\n",
    "    'descripcion' : descripcion, 'estacionamientos' : estacionamientos, 'url_page':i}\n",
    "    data.append(datos)\n",
    "\n"
   ]
  },
  {
   "cell_type": "code",
   "execution_count": 8,
   "metadata": {},
   "outputs": [],
   "source": [
    "df = pd.DataFrame(data)"
   ]
  },
  {
   "cell_type": "code",
   "execution_count": 9,
   "metadata": {},
   "outputs": [
    {
     "data": {
      "text/plain": [
       "(432, 17)"
      ]
     },
     "execution_count": 9,
     "metadata": {},
     "output_type": "execute_result"
    }
   ],
   "source": [
    "df.shape"
   ]
  },
  {
   "cell_type": "code",
   "execution_count": 10,
   "metadata": {},
   "outputs": [],
   "source": [
    "df.drop_duplicates(inplace=True)"
   ]
  },
  {
   "cell_type": "code",
   "execution_count": 11,
   "metadata": {},
   "outputs": [],
   "source": [
    "df.to_csv('lamudi_datos_20220926.csv',sep = ';',index=False, encoding = 'utf-8')"
   ]
  }
 ],
 "metadata": {
  "kernelspec": {
   "display_name": "Python 3.10.5 64-bit",
   "language": "python",
   "name": "python3"
  },
  "language_info": {
   "codemirror_mode": {
    "name": "ipython",
    "version": 3
   },
   "file_extension": ".py",
   "mimetype": "text/x-python",
   "name": "python",
   "nbconvert_exporter": "python",
   "pygments_lexer": "ipython3",
   "version": "3.10.5"
  },
  "orig_nbformat": 4,
  "vscode": {
   "interpreter": {
    "hash": "aee8b7b246df8f9039afb4144a1f6fd8d2ca17a180786b69acc140d282b71a49"
   }
  }
 },
 "nbformat": 4,
 "nbformat_minor": 2
}
